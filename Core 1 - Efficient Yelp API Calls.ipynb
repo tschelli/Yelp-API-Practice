{
 "cells": [
  {
   "cell_type": "markdown",
   "id": "fe6bd259",
   "metadata": {},
   "source": [
    "# Core Assignment 1 - Efficient Yelp API Calls\n",
    "\n",
    "- Name: Tyler Schelling\n",
    "\n",
    "- Date: 12/20/2022"
   ]
  },
  {
   "cell_type": "markdown",
   "id": "cdcce531",
   "metadata": {},
   "source": [
    "## Import Libraries"
   ]
  },
  {
   "cell_type": "code",
   "execution_count": 1,
   "id": "cb5f1351",
   "metadata": {},
   "outputs": [],
   "source": [
    "import numpy as np\n",
    "import pandas as pd\n",
    "import matplotlib.pyplot as plt\n",
    "import seaborn as sns\n",
    "\n",
    "import os, json, math, time\n",
    "from yelpapi import YelpAPI\n",
    "from tqdm.notebook import tqdm_notebook"
   ]
  },
  {
   "cell_type": "markdown",
   "id": "8dcc9f28",
   "metadata": {},
   "source": [
    "## Load Credentials and Instantiate YelpAPI Variable"
   ]
  },
  {
   "cell_type": "code",
   "execution_count": 2,
   "id": "44be89cd",
   "metadata": {},
   "outputs": [
    {
     "data": {
      "text/plain": [
       "dict_keys(['client-id', 'api-key'])"
      ]
     },
     "execution_count": 2,
     "metadata": {},
     "output_type": "execute_result"
    }
   ],
   "source": [
    "with open('/Users/tyler/.secret/yelp_api.json') as f: \n",
    "    login = json.load(f)\n",
    "login.keys()"
   ]
  },
  {
   "cell_type": "code",
   "execution_count": 3,
   "id": "69983ff0",
   "metadata": {},
   "outputs": [
    {
     "data": {
      "text/plain": [
       "<yelpapi.yelpapi.YelpAPI at 0x13c60e78c70>"
      ]
     },
     "execution_count": 3,
     "metadata": {},
     "output_type": "execute_result"
    }
   ],
   "source": [
    "yelp_api = YelpAPI(login['api-key'], timeout_s=5.0)\n",
    "yelp_api"
   ]
  },
  {
   "cell_type": "markdown",
   "id": "00d554b4",
   "metadata": {},
   "source": [
    "## Efficient API Call"
   ]
  },
  {
   "cell_type": "markdown",
   "id": "3feb0de2",
   "metadata": {},
   "source": [
    "### Define Search Terms"
   ]
  },
  {
   "cell_type": "code",
   "execution_count": 4,
   "id": "e92191c1",
   "metadata": {},
   "outputs": [],
   "source": [
    "LOCATION = 'San Luis Obispo, CA'\n",
    "TERM = 'Sandwiches'"
   ]
  },
  {
   "cell_type": "code",
   "execution_count": 5,
   "id": "d577f2a5",
   "metadata": {},
   "outputs": [],
   "source": [
    "JSON_FILE = \"Data/results_in_progress_SLO_sandwiches.json\""
   ]
  },
  {
   "cell_type": "markdown",
   "id": "466ca3a2",
   "metadata": {},
   "source": [
    "### Create JSON File"
   ]
  },
  {
   "cell_type": "code",
   "execution_count": 7,
   "id": "25d656ad",
   "metadata": {},
   "outputs": [
    {
     "name": "stdout",
     "output_type": "stream",
     "text": [
      "[i] Data/results_in_progress_SLO_sandwiches.json not found. Saving empty list to file.\n"
     ]
    }
   ],
   "source": [
    "file_exists = os.path.isfile(JSON_FILE)\n",
    "\n",
    "if file_exists == False:\n",
    "    folder = os.path.dirname(JSON_FILE)\n",
    "    if len(folder)>0:\n",
    "        os.makedirs(folder, exist_ok=True)\n",
    "    print(f'[i] {JSON_FILE} not found. Saving empty list to file.')\n",
    "    \n",
    "    with open(JSON_FILE, 'w') as f:\n",
    "        json.dump([], f)\n",
    "else:\n",
    "    print(f'[i] {JSON_FILE} already exists')"
   ]
  },
  {
   "cell_type": "markdown",
   "id": "f758a51e",
   "metadata": {},
   "source": [
    "### Determine Results in File"
   ]
  },
  {
   "cell_type": "code",
   "execution_count": 8,
   "id": "ccd584a4",
   "metadata": {},
   "outputs": [
    {
     "name": "stdout",
     "output_type": "stream",
     "text": [
      "- 0 previous results found.\n"
     ]
    }
   ],
   "source": [
    "with open(JSON_FILE, 'r') as f:\n",
    "    previous_results = json.load(f)\n",
    "\n",
    "n_results = len(previous_results)\n",
    "print(f'- {n_results} previous results found.')"
   ]
  },
  {
   "cell_type": "markdown",
   "id": "fd165372",
   "metadata": {},
   "source": [
    "### Determine QTY of Pages Needed"
   ]
  },
  {
   "cell_type": "code",
   "execution_count": 9,
   "id": "8a433bb0",
   "metadata": {},
   "outputs": [
    {
     "data": {
      "text/plain": [
       "dict_keys(['businesses', 'total', 'region'])"
      ]
     },
     "execution_count": 9,
     "metadata": {},
     "output_type": "execute_result"
    }
   ],
   "source": [
    "query_results = yelp_api.search_query(location = LOCATION,\n",
    "                                      term = TERM,\n",
    "                                      offset = n_results)\n",
    "query_results.keys()"
   ]
  },
  {
   "cell_type": "code",
   "execution_count": 11,
   "id": "5e6d528b",
   "metadata": {},
   "outputs": [
    {
     "data": {
      "text/plain": [
       "194"
      ]
     },
     "execution_count": 11,
     "metadata": {},
     "output_type": "execute_result"
    }
   ],
   "source": [
    "total_results = query_results['total']\n",
    "total_results"
   ]
  },
  {
   "cell_type": "code",
   "execution_count": 13,
   "id": "6f9ecf90",
   "metadata": {},
   "outputs": [
    {
     "data": {
      "text/plain": [
       "20"
      ]
     },
     "execution_count": 13,
     "metadata": {},
     "output_type": "execute_result"
    }
   ],
   "source": [
    "results_per_page = len(query_results['businesses'])\n",
    "results_per_page"
   ]
  },
  {
   "cell_type": "code",
   "execution_count": 15,
   "id": "3e2fe760",
   "metadata": {},
   "outputs": [
    {
     "data": {
      "text/plain": [
       "10"
      ]
     },
     "execution_count": 15,
     "metadata": {},
     "output_type": "execute_result"
    }
   ],
   "source": [
    "n_pages = math.ceil((query_results['total'] - n_results) / results_per_page)\n",
    "n_pages"
   ]
  },
  {
   "cell_type": "markdown",
   "id": "7a90588d",
   "metadata": {},
   "source": [
    "### Add Results to JSON File"
   ]
  },
  {
   "cell_type": "code",
   "execution_count": null,
   "id": "b20ed88e",
   "metadata": {},
   "outputs": [],
   "source": [
    "previous_results.extend(query_results['businesses'])\n",
    "with open(JSON_FILE, 'w') as f:\n",
    "    json.dump(previous_results, f)"
   ]
  },
  {
   "cell_type": "markdown",
   "id": "c0c6ce76",
   "metadata": {},
   "source": [
    "## TQDM Progress Loop Combining Above Section"
   ]
  },
  {
   "cell_type": "code",
   "execution_count": 16,
   "id": "cd63f569",
   "metadata": {},
   "outputs": [
    {
     "data": {
      "application/vnd.jupyter.widget-view+json": {
       "model_id": "04b6b698d52b49da9774f4b300103321",
       "version_major": 2,
       "version_minor": 0
      },
      "text/plain": [
       "  0%|          | 0/10 [00:00<?, ?it/s]"
      ]
     },
     "metadata": {},
     "output_type": "display_data"
    }
   ],
   "source": [
    "for i in tqdm_notebook(range(1, n_pages+1)):\n",
    "    with open(JSON_FILE, 'r') as f:\n",
    "        previous_results = json.load(f)\n",
    "    n_results = len(previous_results)\n",
    "    \n",
    "    if (n_results + results_per_page) > 1000:\n",
    "        print('Exceeded 1000 API calls. Stopping loop.')\n",
    "        break\n",
    "    \n",
    "    query_results = yelp_api.search_query(location = LOCATION,\n",
    "                                      term = TERM,\n",
    "                                      offset = n_results)\n",
    "    previous_results.extend(query_results['businesses'])\n",
    "    \n",
    "    with open(JSON_FILE, 'w') as f:\n",
    "        json.dump(previous_results, f)\n",
    "        \n",
    "    time.sleep(.2)"
   ]
  },
  {
   "cell_type": "code",
   "execution_count": 17,
   "id": "1888c57f",
   "metadata": {},
   "outputs": [
    {
     "data": {
      "text/html": [
       "<div>\n",
       "<style scoped>\n",
       "    .dataframe tbody tr th:only-of-type {\n",
       "        vertical-align: middle;\n",
       "    }\n",
       "\n",
       "    .dataframe tbody tr th {\n",
       "        vertical-align: top;\n",
       "    }\n",
       "\n",
       "    .dataframe thead th {\n",
       "        text-align: right;\n",
       "    }\n",
       "</style>\n",
       "<table border=\"1\" class=\"dataframe\">\n",
       "  <thead>\n",
       "    <tr style=\"text-align: right;\">\n",
       "      <th></th>\n",
       "      <th>id</th>\n",
       "      <th>alias</th>\n",
       "      <th>name</th>\n",
       "      <th>image_url</th>\n",
       "      <th>is_closed</th>\n",
       "      <th>url</th>\n",
       "      <th>review_count</th>\n",
       "      <th>categories</th>\n",
       "      <th>rating</th>\n",
       "      <th>coordinates</th>\n",
       "      <th>transactions</th>\n",
       "      <th>price</th>\n",
       "      <th>location</th>\n",
       "      <th>phone</th>\n",
       "      <th>display_phone</th>\n",
       "      <th>distance</th>\n",
       "    </tr>\n",
       "  </thead>\n",
       "  <tbody>\n",
       "    <tr>\n",
       "      <th>0</th>\n",
       "      <td>tgx533AzRRPFVdVP2el2rw</td>\n",
       "      <td>high-street-market-and-deli-san-luis-obispo</td>\n",
       "      <td>High Street Market &amp; Deli</td>\n",
       "      <td>https://s3-media1.fl.yelpcdn.com/bphoto/newdKF...</td>\n",
       "      <td>False</td>\n",
       "      <td>https://www.yelp.com/biz/high-street-market-an...</td>\n",
       "      <td>1403</td>\n",
       "      <td>[{'alias': 'delis', 'title': 'Delis'}, {'alias...</td>\n",
       "      <td>4.5</td>\n",
       "      <td>{'latitude': 35.2723045349121, 'longitude': -1...</td>\n",
       "      <td>[]</td>\n",
       "      <td>$$</td>\n",
       "      <td>{'address1': '350 High St', 'address2': '', 'a...</td>\n",
       "      <td>+18055414738</td>\n",
       "      <td>(805) 541-4738</td>\n",
       "      <td>415.941339</td>\n",
       "    </tr>\n",
       "    <tr>\n",
       "      <th>1</th>\n",
       "      <td>UwFyxqcuzzsnCOfp1O-SDg</td>\n",
       "      <td>mr-pickles-sandwich-shop-slo-san-luis-obispo</td>\n",
       "      <td>Mr Pickle's Sandwich Shop - SLO</td>\n",
       "      <td>https://s3-media4.fl.yelpcdn.com/bphoto/2Oo9_R...</td>\n",
       "      <td>False</td>\n",
       "      <td>https://www.yelp.com/biz/mr-pickles-sandwich-s...</td>\n",
       "      <td>310</td>\n",
       "      <td>[{'alias': 'sandwiches', 'title': 'Sandwiches'...</td>\n",
       "      <td>4.5</td>\n",
       "      <td>{'latitude': 35.2872332, 'longitude': -120.664...</td>\n",
       "      <td>[pickup, delivery]</td>\n",
       "      <td>$</td>\n",
       "      <td>{'address1': '1075 Olive St', 'address2': '', ...</td>\n",
       "      <td>+18055459909</td>\n",
       "      <td>(805) 545-9909</td>\n",
       "      <td>2072.335797</td>\n",
       "    </tr>\n",
       "    <tr>\n",
       "      <th>2</th>\n",
       "      <td>5KNda1IXjbUf8XPfTzWpdQ</td>\n",
       "      <td>lincoln-market-and-deli-san-luis-obispo</td>\n",
       "      <td>Lincoln Market &amp; Deli</td>\n",
       "      <td>https://s3-media2.fl.yelpcdn.com/bphoto/d8w0wP...</td>\n",
       "      <td>False</td>\n",
       "      <td>https://www.yelp.com/biz/lincoln-market-and-de...</td>\n",
       "      <td>288</td>\n",
       "      <td>[{'alias': 'grocery', 'title': 'Grocery'}, {'a...</td>\n",
       "      <td>4.5</td>\n",
       "      <td>{'latitude': 35.28488636616675, 'longitude': -...</td>\n",
       "      <td>[delivery]</td>\n",
       "      <td>$$</td>\n",
       "      <td>{'address1': '496 Broad St', 'address2': '', '...</td>\n",
       "      <td>+18055433443</td>\n",
       "      <td>(805) 543-3443</td>\n",
       "      <td>1855.486958</td>\n",
       "    </tr>\n",
       "    <tr>\n",
       "      <th>3</th>\n",
       "      <td>lfxbCCMgl_PFRhLF_Cm24g</td>\n",
       "      <td>guss-grocery-san-luis-obispo</td>\n",
       "      <td>Gus's Grocery</td>\n",
       "      <td>https://s3-media4.fl.yelpcdn.com/bphoto/YtB-0G...</td>\n",
       "      <td>False</td>\n",
       "      <td>https://www.yelp.com/biz/guss-grocery-san-luis...</td>\n",
       "      <td>455</td>\n",
       "      <td>[{'alias': 'delis', 'title': 'Delis'}, {'alias...</td>\n",
       "      <td>4.0</td>\n",
       "      <td>{'latitude': 35.2766429, 'longitude': -120.657...</td>\n",
       "      <td>[pickup, delivery]</td>\n",
       "      <td>$</td>\n",
       "      <td>{'address1': '1638 Osos St', 'address2': '', '...</td>\n",
       "      <td>+18055438684</td>\n",
       "      <td>(805) 543-8684</td>\n",
       "      <td>1085.072790</td>\n",
       "    </tr>\n",
       "    <tr>\n",
       "      <th>4</th>\n",
       "      <td>Ei67jbqDd9fT3oghWiCK7g</td>\n",
       "      <td>broad-street-giant-grinder-san-luis-obispo</td>\n",
       "      <td>Broad Street Giant Grinder</td>\n",
       "      <td>https://s3-media2.fl.yelpcdn.com/bphoto/8yr12t...</td>\n",
       "      <td>False</td>\n",
       "      <td>https://www.yelp.com/biz/broad-street-giant-gr...</td>\n",
       "      <td>205</td>\n",
       "      <td>[{'alias': 'sandwiches', 'title': 'Sandwiches'}]</td>\n",
       "      <td>4.5</td>\n",
       "      <td>{'latitude': 35.2726374106087, 'longitude': -1...</td>\n",
       "      <td>[pickup, delivery]</td>\n",
       "      <td>$$</td>\n",
       "      <td>{'address1': '1901 Broad St', 'address2': None...</td>\n",
       "      <td>+18055436700</td>\n",
       "      <td>(805) 543-6700</td>\n",
       "      <td>653.578148</td>\n",
       "    </tr>\n",
       "  </tbody>\n",
       "</table>\n",
       "</div>"
      ],
      "text/plain": [
       "                       id                                         alias  \\\n",
       "0  tgx533AzRRPFVdVP2el2rw   high-street-market-and-deli-san-luis-obispo   \n",
       "1  UwFyxqcuzzsnCOfp1O-SDg  mr-pickles-sandwich-shop-slo-san-luis-obispo   \n",
       "2  5KNda1IXjbUf8XPfTzWpdQ       lincoln-market-and-deli-san-luis-obispo   \n",
       "3  lfxbCCMgl_PFRhLF_Cm24g                  guss-grocery-san-luis-obispo   \n",
       "4  Ei67jbqDd9fT3oghWiCK7g    broad-street-giant-grinder-san-luis-obispo   \n",
       "\n",
       "                              name  \\\n",
       "0        High Street Market & Deli   \n",
       "1  Mr Pickle's Sandwich Shop - SLO   \n",
       "2            Lincoln Market & Deli   \n",
       "3                    Gus's Grocery   \n",
       "4       Broad Street Giant Grinder   \n",
       "\n",
       "                                           image_url  is_closed  \\\n",
       "0  https://s3-media1.fl.yelpcdn.com/bphoto/newdKF...      False   \n",
       "1  https://s3-media4.fl.yelpcdn.com/bphoto/2Oo9_R...      False   \n",
       "2  https://s3-media2.fl.yelpcdn.com/bphoto/d8w0wP...      False   \n",
       "3  https://s3-media4.fl.yelpcdn.com/bphoto/YtB-0G...      False   \n",
       "4  https://s3-media2.fl.yelpcdn.com/bphoto/8yr12t...      False   \n",
       "\n",
       "                                                 url  review_count  \\\n",
       "0  https://www.yelp.com/biz/high-street-market-an...          1403   \n",
       "1  https://www.yelp.com/biz/mr-pickles-sandwich-s...           310   \n",
       "2  https://www.yelp.com/biz/lincoln-market-and-de...           288   \n",
       "3  https://www.yelp.com/biz/guss-grocery-san-luis...           455   \n",
       "4  https://www.yelp.com/biz/broad-street-giant-gr...           205   \n",
       "\n",
       "                                          categories  rating  \\\n",
       "0  [{'alias': 'delis', 'title': 'Delis'}, {'alias...     4.5   \n",
       "1  [{'alias': 'sandwiches', 'title': 'Sandwiches'...     4.5   \n",
       "2  [{'alias': 'grocery', 'title': 'Grocery'}, {'a...     4.5   \n",
       "3  [{'alias': 'delis', 'title': 'Delis'}, {'alias...     4.0   \n",
       "4   [{'alias': 'sandwiches', 'title': 'Sandwiches'}]     4.5   \n",
       "\n",
       "                                         coordinates        transactions  \\\n",
       "0  {'latitude': 35.2723045349121, 'longitude': -1...                  []   \n",
       "1  {'latitude': 35.2872332, 'longitude': -120.664...  [pickup, delivery]   \n",
       "2  {'latitude': 35.28488636616675, 'longitude': -...          [delivery]   \n",
       "3  {'latitude': 35.2766429, 'longitude': -120.657...  [pickup, delivery]   \n",
       "4  {'latitude': 35.2726374106087, 'longitude': -1...  [pickup, delivery]   \n",
       "\n",
       "  price                                           location         phone  \\\n",
       "0    $$  {'address1': '350 High St', 'address2': '', 'a...  +18055414738   \n",
       "1     $  {'address1': '1075 Olive St', 'address2': '', ...  +18055459909   \n",
       "2    $$  {'address1': '496 Broad St', 'address2': '', '...  +18055433443   \n",
       "3     $  {'address1': '1638 Osos St', 'address2': '', '...  +18055438684   \n",
       "4    $$  {'address1': '1901 Broad St', 'address2': None...  +18055436700   \n",
       "\n",
       "    display_phone     distance  \n",
       "0  (805) 541-4738   415.941339  \n",
       "1  (805) 545-9909  2072.335797  \n",
       "2  (805) 543-3443  1855.486958  \n",
       "3  (805) 543-8684  1085.072790  \n",
       "4  (805) 543-6700   653.578148  "
      ]
     },
     "metadata": {},
     "output_type": "display_data"
    },
    {
     "data": {
      "text/html": [
       "<div>\n",
       "<style scoped>\n",
       "    .dataframe tbody tr th:only-of-type {\n",
       "        vertical-align: middle;\n",
       "    }\n",
       "\n",
       "    .dataframe tbody tr th {\n",
       "        vertical-align: top;\n",
       "    }\n",
       "\n",
       "    .dataframe thead th {\n",
       "        text-align: right;\n",
       "    }\n",
       "</style>\n",
       "<table border=\"1\" class=\"dataframe\">\n",
       "  <thead>\n",
       "    <tr style=\"text-align: right;\">\n",
       "      <th></th>\n",
       "      <th>id</th>\n",
       "      <th>alias</th>\n",
       "      <th>name</th>\n",
       "      <th>image_url</th>\n",
       "      <th>is_closed</th>\n",
       "      <th>url</th>\n",
       "      <th>review_count</th>\n",
       "      <th>categories</th>\n",
       "      <th>rating</th>\n",
       "      <th>coordinates</th>\n",
       "      <th>transactions</th>\n",
       "      <th>price</th>\n",
       "      <th>location</th>\n",
       "      <th>phone</th>\n",
       "      <th>display_phone</th>\n",
       "      <th>distance</th>\n",
       "    </tr>\n",
       "  </thead>\n",
       "  <tbody>\n",
       "    <tr>\n",
       "      <th>189</th>\n",
       "      <td>Nv1k9Nxxqp-5AOhyznbrAg</td>\n",
       "      <td>dennys-san-luis-obispo</td>\n",
       "      <td>Denny's</td>\n",
       "      <td>https://s3-media3.fl.yelpcdn.com/bphoto/9CdDoT...</td>\n",
       "      <td>False</td>\n",
       "      <td>https://www.yelp.com/biz/dennys-san-luis-obisp...</td>\n",
       "      <td>137</td>\n",
       "      <td>[{'alias': 'breakfast_brunch', 'title': 'Break...</td>\n",
       "      <td>2.5</td>\n",
       "      <td>{'latitude': 35.2642538921323, 'longitude': -1...</td>\n",
       "      <td>[]</td>\n",
       "      <td>$</td>\n",
       "      <td>{'address1': '208 Madonna Rd', 'address2': '',...</td>\n",
       "      <td>+18055433138</td>\n",
       "      <td>(805) 543-3138</td>\n",
       "      <td>1233.171881</td>\n",
       "    </tr>\n",
       "    <tr>\n",
       "      <th>190</th>\n",
       "      <td>NAtpK4nE7AvtlX1su9swqw</td>\n",
       "      <td>gardens-of-avila-restaurant-avila-beach</td>\n",
       "      <td>Gardens of Avila Restaurant</td>\n",
       "      <td>https://s3-media3.fl.yelpcdn.com/bphoto/8DJVW0...</td>\n",
       "      <td>False</td>\n",
       "      <td>https://www.yelp.com/biz/gardens-of-avila-rest...</td>\n",
       "      <td>306</td>\n",
       "      <td>[{'alias': 'newamerican', 'title': 'American (...</td>\n",
       "      <td>3.5</td>\n",
       "      <td>{'latitude': 35.18598306812193, 'longitude': -...</td>\n",
       "      <td>[]</td>\n",
       "      <td>$$</td>\n",
       "      <td>{'address1': '1215 Avila Beach Dr', 'address2'...</td>\n",
       "      <td>+18055957365</td>\n",
       "      <td>(805) 595-7365</td>\n",
       "      <td>10191.991071</td>\n",
       "    </tr>\n",
       "    <tr>\n",
       "      <th>191</th>\n",
       "      <td>n8lPV_DUvMHAT0zT0jxt2A</td>\n",
       "      <td>dominos-pizza-san-luis-obispo</td>\n",
       "      <td>Domino's Pizza</td>\n",
       "      <td>https://s3-media4.fl.yelpcdn.com/bphoto/eRII3G...</td>\n",
       "      <td>False</td>\n",
       "      <td>https://www.yelp.com/biz/dominos-pizza-san-lui...</td>\n",
       "      <td>141</td>\n",
       "      <td>[{'alias': 'pizza', 'title': 'Pizza'}, {'alias...</td>\n",
       "      <td>2.0</td>\n",
       "      <td>{'latitude': 35.2944, 'longitude': -120.67055}</td>\n",
       "      <td>[pickup, delivery]</td>\n",
       "      <td>$</td>\n",
       "      <td>{'address1': '866 E Foothill Blvd', 'address2'...</td>\n",
       "      <td>+18055443636</td>\n",
       "      <td>(805) 544-3636</td>\n",
       "      <td>2939.081243</td>\n",
       "    </tr>\n",
       "    <tr>\n",
       "      <th>192</th>\n",
       "      <td>WxrVxu80WB55zHbD9qv0-A</td>\n",
       "      <td>starbucks-san-luis-obispo-6</td>\n",
       "      <td>Starbucks</td>\n",
       "      <td>https://s3-media3.fl.yelpcdn.com/bphoto/N3hj95...</td>\n",
       "      <td>False</td>\n",
       "      <td>https://www.yelp.com/biz/starbucks-san-luis-ob...</td>\n",
       "      <td>58</td>\n",
       "      <td>[{'alias': 'coffee', 'title': 'Coffee &amp; Tea'}]</td>\n",
       "      <td>3.0</td>\n",
       "      <td>{'latitude': 35.293715, 'longitude': -120.670984}</td>\n",
       "      <td>[delivery]</td>\n",
       "      <td>$$</td>\n",
       "      <td>{'address1': '17 Chorro St', 'address2': 'Ste ...</td>\n",
       "      <td>+18055479054</td>\n",
       "      <td>(805) 547-9054</td>\n",
       "      <td>2859.814578</td>\n",
       "    </tr>\n",
       "    <tr>\n",
       "      <th>193</th>\n",
       "      <td>I-vU31GDWTSX75LbWJe_BA</td>\n",
       "      <td>the-pairing-knife-san-luis-obispo-2</td>\n",
       "      <td>The Pairing Knife</td>\n",
       "      <td>https://s3-media1.fl.yelpcdn.com/bphoto/RBBGBJ...</td>\n",
       "      <td>False</td>\n",
       "      <td>https://www.yelp.com/biz/the-pairing-knife-san...</td>\n",
       "      <td>19</td>\n",
       "      <td>[{'alias': 'foodtrucks', 'title': 'Food Trucks...</td>\n",
       "      <td>3.0</td>\n",
       "      <td>{'latitude': 35.2454989, 'longitude': -120.596...</td>\n",
       "      <td>[]</td>\n",
       "      <td>$</td>\n",
       "      <td>{'address1': '', 'address2': '', 'address3': '...</td>\n",
       "      <td>+18055447247</td>\n",
       "      <td>(805) 544-7247</td>\n",
       "      <td>6623.452423</td>\n",
       "    </tr>\n",
       "  </tbody>\n",
       "</table>\n",
       "</div>"
      ],
      "text/plain": [
       "                         id                                    alias  \\\n",
       "189  Nv1k9Nxxqp-5AOhyznbrAg                   dennys-san-luis-obispo   \n",
       "190  NAtpK4nE7AvtlX1su9swqw  gardens-of-avila-restaurant-avila-beach   \n",
       "191  n8lPV_DUvMHAT0zT0jxt2A            dominos-pizza-san-luis-obispo   \n",
       "192  WxrVxu80WB55zHbD9qv0-A              starbucks-san-luis-obispo-6   \n",
       "193  I-vU31GDWTSX75LbWJe_BA      the-pairing-knife-san-luis-obispo-2   \n",
       "\n",
       "                            name  \\\n",
       "189                      Denny's   \n",
       "190  Gardens of Avila Restaurant   \n",
       "191               Domino's Pizza   \n",
       "192                    Starbucks   \n",
       "193            The Pairing Knife   \n",
       "\n",
       "                                             image_url  is_closed  \\\n",
       "189  https://s3-media3.fl.yelpcdn.com/bphoto/9CdDoT...      False   \n",
       "190  https://s3-media3.fl.yelpcdn.com/bphoto/8DJVW0...      False   \n",
       "191  https://s3-media4.fl.yelpcdn.com/bphoto/eRII3G...      False   \n",
       "192  https://s3-media3.fl.yelpcdn.com/bphoto/N3hj95...      False   \n",
       "193  https://s3-media1.fl.yelpcdn.com/bphoto/RBBGBJ...      False   \n",
       "\n",
       "                                                   url  review_count  \\\n",
       "189  https://www.yelp.com/biz/dennys-san-luis-obisp...           137   \n",
       "190  https://www.yelp.com/biz/gardens-of-avila-rest...           306   \n",
       "191  https://www.yelp.com/biz/dominos-pizza-san-lui...           141   \n",
       "192  https://www.yelp.com/biz/starbucks-san-luis-ob...            58   \n",
       "193  https://www.yelp.com/biz/the-pairing-knife-san...            19   \n",
       "\n",
       "                                            categories  rating  \\\n",
       "189  [{'alias': 'breakfast_brunch', 'title': 'Break...     2.5   \n",
       "190  [{'alias': 'newamerican', 'title': 'American (...     3.5   \n",
       "191  [{'alias': 'pizza', 'title': 'Pizza'}, {'alias...     2.0   \n",
       "192     [{'alias': 'coffee', 'title': 'Coffee & Tea'}]     3.0   \n",
       "193  [{'alias': 'foodtrucks', 'title': 'Food Trucks...     3.0   \n",
       "\n",
       "                                           coordinates        transactions  \\\n",
       "189  {'latitude': 35.2642538921323, 'longitude': -1...                  []   \n",
       "190  {'latitude': 35.18598306812193, 'longitude': -...                  []   \n",
       "191     {'latitude': 35.2944, 'longitude': -120.67055}  [pickup, delivery]   \n",
       "192  {'latitude': 35.293715, 'longitude': -120.670984}          [delivery]   \n",
       "193  {'latitude': 35.2454989, 'longitude': -120.596...                  []   \n",
       "\n",
       "    price                                           location         phone  \\\n",
       "189     $  {'address1': '208 Madonna Rd', 'address2': '',...  +18055433138   \n",
       "190    $$  {'address1': '1215 Avila Beach Dr', 'address2'...  +18055957365   \n",
       "191     $  {'address1': '866 E Foothill Blvd', 'address2'...  +18055443636   \n",
       "192    $$  {'address1': '17 Chorro St', 'address2': 'Ste ...  +18055479054   \n",
       "193     $  {'address1': '', 'address2': '', 'address3': '...  +18055447247   \n",
       "\n",
       "      display_phone      distance  \n",
       "189  (805) 543-3138   1233.171881  \n",
       "190  (805) 595-7365  10191.991071  \n",
       "191  (805) 544-3636   2939.081243  \n",
       "192  (805) 547-9054   2859.814578  \n",
       "193  (805) 544-7247   6623.452423  "
      ]
     },
     "metadata": {},
     "output_type": "display_data"
    }
   ],
   "source": [
    "final_df = pd.read_json(JSON_FILE)\n",
    "display(final_df.head(), final_df.tail())"
   ]
  }
 ],
 "metadata": {
  "kernelspec": {
   "display_name": "Python (dojo-env)",
   "language": "python",
   "name": "dojo-env"
  },
  "language_info": {
   "codemirror_mode": {
    "name": "ipython",
    "version": 3
   },
   "file_extension": ".py",
   "mimetype": "text/x-python",
   "name": "python",
   "nbconvert_exporter": "python",
   "pygments_lexer": "ipython3",
   "version": "3.9.15"
  },
  "toc": {
   "base_numbering": 1,
   "nav_menu": {},
   "number_sections": false,
   "sideBar": true,
   "skip_h1_title": false,
   "title_cell": "Table of Contents",
   "title_sidebar": "Contents",
   "toc_cell": false,
   "toc_position": {},
   "toc_section_display": true,
   "toc_window_display": false
  }
 },
 "nbformat": 4,
 "nbformat_minor": 5
}
